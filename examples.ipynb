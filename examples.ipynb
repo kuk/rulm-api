{
 "cells": [
  {
   "cell_type": "code",
   "execution_count": 97,
   "id": "0df0e2ff",
   "metadata": {},
   "outputs": [
    {
     "ename": "RulmError",
     "evalue": "n_tokens=15064 > n_ctx=2000",
     "output_type": "error",
     "traceback": [
      "\u001b[0;31m---------------------------------------------------------------------------\u001b[0m",
      "\u001b[0;31mRulmError\u001b[0m                                 Traceback (most recent call last)",
      "Cell \u001b[0;32mIn[97], line 81\u001b[0m\n\u001b[1;32m     78\u001b[0m model \u001b[38;5;241m=\u001b[39m \u001b[38;5;124m'\u001b[39m\u001b[38;5;124msaiga-7b-q4\u001b[39m\u001b[38;5;124m'\u001b[39m\n\u001b[1;32m     80\u001b[0m items \u001b[38;5;241m=\u001b[39m rulm_complete_stream(prompt, model, max_tokens\u001b[38;5;241m=\u001b[39m\u001b[38;5;241m24\u001b[39m, temperature\u001b[38;5;241m=\u001b[39m\u001b[38;5;241m0\u001b[39m)\n\u001b[0;32m---> 81\u001b[0m output \u001b[38;5;241m=\u001b[39m \u001b[43mshow_rulm_stream\u001b[49m\u001b[43m(\u001b[49m\u001b[43mitems\u001b[49m\u001b[43m)\u001b[49m\n",
      "Cell \u001b[0;32mIn[97], line 55\u001b[0m, in \u001b[0;36mshow_rulm_stream\u001b[0;34m(items)\u001b[0m\n\u001b[1;32m     53\u001b[0m \u001b[38;5;28;01mdef\u001b[39;00m \u001b[38;5;21mshow_rulm_stream\u001b[39m(items):\n\u001b[1;32m     54\u001b[0m     buffer \u001b[38;5;241m=\u001b[39m []\n\u001b[0;32m---> 55\u001b[0m     \u001b[38;5;28;01mfor\u001b[39;00m item \u001b[38;5;129;01min\u001b[39;00m items:\n\u001b[1;32m     56\u001b[0m         text \u001b[38;5;241m=\u001b[39m item\u001b[38;5;241m.\u001b[39mget(\u001b[38;5;124m'\u001b[39m\u001b[38;5;124mtext\u001b[39m\u001b[38;5;124m'\u001b[39m)\n\u001b[1;32m     57\u001b[0m         prompt_progress \u001b[38;5;241m=\u001b[39m item\u001b[38;5;241m.\u001b[39mget(\u001b[38;5;124m'\u001b[39m\u001b[38;5;124mprompt_progress\u001b[39m\u001b[38;5;124m'\u001b[39m)\n",
      "Cell \u001b[0;32mIn[97], line 49\u001b[0m, in \u001b[0;36mrulm_complete_stream\u001b[0;34m(prompt, model, max_tokens, temperature)\u001b[0m\n\u001b[1;32m     47\u001b[0m error \u001b[38;5;241m=\u001b[39m item\u001b[38;5;241m.\u001b[39mget(\u001b[38;5;124m'\u001b[39m\u001b[38;5;124merror\u001b[39m\u001b[38;5;124m'\u001b[39m)\n\u001b[1;32m     48\u001b[0m \u001b[38;5;28;01mif\u001b[39;00m error:\n\u001b[0;32m---> 49\u001b[0m     \u001b[38;5;28;01mraise\u001b[39;00m RulmError(error)\n\u001b[1;32m     50\u001b[0m \u001b[38;5;28;01myield\u001b[39;00m item\n",
      "\u001b[0;31mRulmError\u001b[0m: n_tokens=15064 > n_ctx=2000"
     ]
    }
   ],
   "source": [
    "import json\n",
    "\n",
    "import requests\n",
    "\n",
    "\n",
    "RULM_URL = 'https://api.rulm.alexkuk.ru/v1'\n",
    "\n",
    "\n",
    "class RulmError(Exception):\n",
    "    pass\n",
    "\n",
    "\n",
    "def rulm_models():\n",
    "    return requests.get(f'{RULM_URL}/models').json()\n",
    "\n",
    "\n",
    "def rulm_tokenize(text, model='saiga-7b-q4'):\n",
    "    response = requests.post(\n",
    "        f'{RULM_URL}/tokenize',\n",
    "        json={\n",
    "            'text': text,\n",
    "            'model': model\n",
    "        }\n",
    "    )\n",
    "    if response.status_code != 200:\n",
    "        raise RulmError(response.text)\n",
    "        \n",
    "    return response.json()\n",
    "\n",
    "\n",
    "def rulm_complete_stream(prompt, model='saiga-7b-q4', max_tokens=128, temperature=0.2):\n",
    "    response = requests.post(\n",
    "        f'{RULM_URL}/complete',\n",
    "        json={\n",
    "            'prompt': prompt,\n",
    "            'model': model,\n",
    "            'max_tokens': max_tokens,\n",
    "            'temperature': temperature\n",
    "        },\n",
    "        stream=True\n",
    "    )\n",
    "    if response.status_code != 200:\n",
    "        raise RulmError(response.text)\n",
    "\n",
    "    for line in response.iter_lines():\n",
    "        item = json.loads(line)\n",
    "        error = item.get('error')\n",
    "        if error:\n",
    "            raise RulmError(error)\n",
    "        yield item\n",
    "\n",
    "\n",
    "def show_rulm_stream(items):\n",
    "    buffer = []\n",
    "    for item in items:\n",
    "        text = item.get('text')\n",
    "        prompt_progress = item.get('prompt_progress')\n",
    "        if text:\n",
    "            buffer.append(text)\n",
    "            print(text, flush=True, end='')\n",
    "        else:\n",
    "            print(f'{prompt_progress * 100:.0f}%', flush=True, end=' ')\n",
    "            if prompt_progress == 1:\n",
    "                print('\\n', flush=True)\n",
    "    return ''.join(buffer)\n",
    "\n",
    "\n",
    "def rulm_complete(prompt, **kwargs):\n",
    "    items = rulm_complete_stream(prompt, **kwargs)\n",
    "    buffer = []\n",
    "    for item in items:\n",
    "        if item['text']:\n",
    "            buffer.append(item['text'])\n",
    "    return ''.join(buffer)\n",
    "\n",
    "\n",
    "prompt = '9 мая 2023 года это какой день недели?' * 1000\n",
    "model = 'saiga-7b-q4'\n",
    "\n",
    "items = rulm_complete_stream(prompt, model, max_tokens=24, temperature=0)\n",
    "output = show_rulm_stream(items)"
   ]
  },
  {
   "cell_type": "code",
   "execution_count": 43,
   "id": "c90acc12",
   "metadata": {},
   "outputs": [
    {
     "name": "stdout",
     "output_type": "stream",
     "text": [
      "0% 20% 41% 61% 81% 100% \n",
      "\n",
      "9 мая 2023 года будет вторник. <end>"
     ]
    }
   ],
   "source": [
    "prompt = '9 мая 2023 года это какой день недели?'\n",
    "model = 'saiga-7b-q4'\n",
    "\n",
    "items = rulm_complete_stream(prompt, model, max_tokens=64, temperature=0)\n",
    "output = show_rulm_stream(items)"
   ]
  },
  {
   "cell_type": "code",
   "execution_count": 3,
   "id": "d85c1671",
   "metadata": {},
   "outputs": [
    {
     "name": "stdout",
     "output_type": "stream",
     "text": [
      "9 мая 2023 года будет вторник. <end>\n"
     ]
    }
   ],
   "source": [
    "output = rulm_complete(prompt, model=model, max_tokens=64, temperature=0)\n",
    "print(output)"
   ]
  },
  {
   "cell_type": "code",
   "execution_count": 4,
   "id": "0b7c94d1",
   "metadata": {},
   "outputs": [
    {
     "name": "stdout",
     "output_type": "stream",
     "text": [
      "ru-alpaca-7b-f16\n",
      " 9 мая 2023 года - вторник.\n",
      "\n",
      "ru-alpaca-7b-q4\n",
      " 9 мая 2023 года будет вторник.\n",
      "\n",
      "saiga-7b-f16\n",
      "9 мая 2023 года будет вторник. Это второй день недели в году. <end>\n",
      "\n",
      "saiga-7b-q4\n",
      "9 мая 2023 года будет вторник. <end>\n",
      "\n",
      "saiga-7b-v2-f16\n",
      "9 мая 2023 года будет вторник.</s>\n",
      "\n",
      "saiga-7b-v2-q4\n",
      "Выходные данные: 52-й день года.</s>\n",
      "\n"
     ]
    }
   ],
   "source": [
    "for model in rulm_models():\n",
    "    print(model)\n",
    "    print(rulm_complete(prompt, model=model, max_tokens=64, temperature=0))\n",
    "    print()"
   ]
  },
  {
   "cell_type": "code",
   "execution_count": null,
   "id": "71375be9",
   "metadata": {},
   "outputs": [],
   "source": []
  }
 ],
 "metadata": {
  "kernelspec": {
   "display_name": "default",
   "language": "python",
   "name": "default"
  },
  "language_info": {
   "codemirror_mode": {
    "name": "ipython",
    "version": 3
   },
   "file_extension": ".py",
   "mimetype": "text/x-python",
   "name": "python",
   "nbconvert_exporter": "python",
   "pygments_lexer": "ipython3",
   "version": "3.10.8"
  }
 },
 "nbformat": 4,
 "nbformat_minor": 5
}
