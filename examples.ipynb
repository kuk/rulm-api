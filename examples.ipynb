{
 "cells": [
  {
   "cell_type": "code",
   "execution_count": 1,
   "id": "0df0e2ff",
   "metadata": {},
   "outputs": [],
   "source": [
    "import json\n",
    "\n",
    "import requests\n",
    "\n",
    "\n",
    "RULM_URL = 'https://api.rulm.alexkuk.ru/v1'\n",
    "\n",
    "\n",
    "def rulm_models():\n",
    "    return requests.get(f'{RULM_URL}/models').json()\n",
    "\n",
    "\n",
    "def rulm_complete_stream(prompt, model='saiga-7b-q4', max_tokens=128, temperature=0.2):\n",
    "    response = requests.post(\n",
    "        f'{RULM_URL}/complete',\n",
    "        json={\n",
    "            'prompt': prompt,\n",
    "            'model': model,\n",
    "            'max_tokens': max_tokens,\n",
    "            'temperature': temperature\n",
    "        },\n",
    "        stream=True\n",
    "    )\n",
    "    for line in response.iter_lines():\n",
    "        yield json.loads(line)\n",
    "\n",
    "\n",
    "# {'n_past': 0, 'n_tokens': 78, 'text': None}\n",
    "# {'n_past': 16, 'n_tokens': 78, 'text': None}\n",
    "# {'n_past': 32, 'n_tokens': 78, 'text': None}\n",
    "# {'n_past': 48, 'n_tokens': 78, 'text': None}\n",
    "# {'n_past': 64, 'n_tokens': 78, 'text': None}\n",
    "# {'n_past': 78, 'n_tokens': 78, 'text': None}\n",
    "# {'n_past': None, 'n_tokens': None, 'text': 'В'}\n",
    "# {'n_past': None, 'n_tokens': None, 'text': 'ы'}\n",
    "# {'n_past': None, 'n_tokens': None, 'text': 'ход'}\n",
    "# {'n_past': None, 'n_tokens': None, 'text': 'ные'}\n",
    "# {'n_past': None, 'n_tokens': None, 'text': ' дан'}\n",
    "\n",
    "\n",
    "def show_rulm_stream(items):\n",
    "    parts = []\n",
    "    for item in items:\n",
    "        if item['text']:\n",
    "            parts.append(item['text'])\n",
    "            print(item['text'], flush=True, end='')\n",
    "        else:\n",
    "            percent = item['n_past'] / item['n_tokens'] * 100\n",
    "            print(f'{percent:.0f}%', flush=True, end=' ')\n",
    "            if percent == 100:\n",
    "                print('\\n', flush=True)\n",
    "    return ''.join(parts)\n",
    "\n",
    "\n",
    "def rulm_complete(prompt, **kwargs):\n",
    "    items = rulm_complete_stream(prompt, **kwargs)\n",
    "    parts = []\n",
    "    for item in items:\n",
    "        if item['text']:\n",
    "            parts.append(item['text'])\n",
    "    return ''.join(parts)"
   ]
  },
  {
   "cell_type": "code",
   "execution_count": 2,
   "id": "c90acc12",
   "metadata": {},
   "outputs": [
    {
     "name": "stdout",
     "output_type": "stream",
     "text": [
      "0% 20% 41% 61% 81% 100% \n",
      "\n",
      "9 мая 2023 года будет вторник. <end>"
     ]
    }
   ],
   "source": [
    "prompt = '9 мая 2023 года это какой день недели?'\n",
    "model = 'saiga-7b-q4'\n",
    "\n",
    "items = rulm_complete_stream(prompt, model, max_tokens=64, temperature=0)\n",
    "output = show_rulm_stream(items)"
   ]
  },
  {
   "cell_type": "code",
   "execution_count": 3,
   "id": "d85c1671",
   "metadata": {},
   "outputs": [
    {
     "name": "stdout",
     "output_type": "stream",
     "text": [
      "9 мая 2023 года будет вторник. <end>\n"
     ]
    }
   ],
   "source": [
    "output = rulm_complete(prompt, model=model, max_tokens=64, temperature=0)\n",
    "print(output)"
   ]
  },
  {
   "cell_type": "code",
   "execution_count": 4,
   "id": "0b7c94d1",
   "metadata": {},
   "outputs": [
    {
     "name": "stdout",
     "output_type": "stream",
     "text": [
      "ru-alpaca-7b-f16\n",
      " 9 мая 2023 года - вторник.\n",
      "\n",
      "ru-alpaca-7b-q4\n",
      " 9 мая 2023 года будет вторник.\n",
      "\n",
      "saiga-7b-f16\n",
      "9 мая 2023 года будет вторник. Это второй день недели в году. <end>\n",
      "\n",
      "saiga-7b-q4\n",
      "9 мая 2023 года будет вторник. <end>\n",
      "\n",
      "saiga-7b-v2-f16\n",
      "9 мая 2023 года будет вторник.</s>\n",
      "\n",
      "saiga-7b-v2-q4\n",
      "Выходные данные: 52-й день года.</s>\n",
      "\n"
     ]
    }
   ],
   "source": [
    "for model in rulm_models():\n",
    "    print(model)\n",
    "    print(rulm_complete(prompt, model=model, max_tokens=64, temperature=0))\n",
    "    print()"
   ]
  },
  {
   "cell_type": "code",
   "execution_count": null,
   "id": "71375be9",
   "metadata": {},
   "outputs": [],
   "source": []
  }
 ],
 "metadata": {
  "kernelspec": {
   "display_name": "default",
   "language": "python",
   "name": "default"
  },
  "language_info": {
   "codemirror_mode": {
    "name": "ipython",
    "version": 3
   },
   "file_extension": ".py",
   "mimetype": "text/x-python",
   "name": "python",
   "nbconvert_exporter": "python",
   "pygments_lexer": "ipython3",
   "version": "3.10.8"
  }
 },
 "nbformat": 4,
 "nbformat_minor": 5
}
