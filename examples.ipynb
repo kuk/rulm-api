{
 "cells": [
  {
   "cell_type": "code",
   "execution_count": 1,
   "id": "0df0e2ff",
   "metadata": {},
   "outputs": [],
   "source": [
    "import json\n",
    "\n",
    "import requests\n",
    "\n",
    "\n",
    "RULM_URL = 'https://api.rulm.alexkuk.ru/v1'\n",
    "\n",
    "\n",
    "class RulmError(Exception):\n",
    "    pass\n",
    "\n",
    "\n",
    "def rulm_models():\n",
    "    return requests.get(f'{RULM_URL}/models').json()\n",
    "\n",
    "\n",
    "def rulm_tokenize(text, model='saiga-7b-q4'):\n",
    "    response = requests.post(\n",
    "        f'{RULM_URL}/tokenize',\n",
    "        json={\n",
    "            'text': text,\n",
    "            'model': model\n",
    "        }\n",
    "    )\n",
    "    if response.status_code != 200:\n",
    "        raise RulmError(response.text)\n",
    "        \n",
    "    return response.json()\n",
    "\n",
    "\n",
    "def rulm_chat_complete_stream(messages, model='saiga-7b-q4', max_tokens=128, temperature=0.2):\n",
    "    response = requests.post(\n",
    "        f'{RULM_URL}/chat_complete',\n",
    "        json={\n",
    "            'messages': messages,\n",
    "            'model': model,\n",
    "            'max_tokens': max_tokens,\n",
    "            'temperature': temperature\n",
    "        },\n",
    "        stream=True\n",
    "    )\n",
    "    if response.status_code != 200:\n",
    "        raise RulmError(response.text)\n",
    "\n",
    "    for line in response.iter_lines():\n",
    "        item = json.loads(line)\n",
    "        error = item.get('error')\n",
    "        if error:\n",
    "            raise RulmError(error)\n",
    "        yield item\n",
    "\n",
    "\n",
    "def show_rulm_stream(items):\n",
    "    buffer = []\n",
    "    for item in items:\n",
    "        text = item.get('text')\n",
    "        prompt_progress = item.get('prompt_progress')\n",
    "        if text:\n",
    "            buffer.append(text)\n",
    "            print(text, flush=True, end='')\n",
    "        else:\n",
    "            print(f'{prompt_progress * 100:.0f}%', flush=True, end=' ')\n",
    "            if prompt_progress == 1:\n",
    "                print('\\n', flush=True)\n",
    "    return ''.join(buffer)\n",
    "\n",
    "\n",
    "def rulm_chat_complete(messages, **kwargs):\n",
    "    items = rulm_chat_complete_stream(messages, **kwargs)\n",
    "    buffer = []\n",
    "    for item in items:\n",
    "        if item.get('text'):\n",
    "            buffer.append(item.get('text'))\n",
    "    return ''.join(buffer)"
   ]
  },
  {
   "cell_type": "code",
   "execution_count": 2,
   "id": "c90acc12",
   "metadata": {},
   "outputs": [
    {
     "name": "stdout",
     "output_type": "stream",
     "text": [
      "0% 24% 47% 71% 94% 100% \n",
      "\n",
      "Выходные данные: 9 мая 2023 года будет вторник."
     ]
    }
   ],
   "source": [
    "prompt = '9 мая 2023 года это какой день недели?'\n",
    "model = 'saiga-7b-q4'\n",
    "\n",
    "items = rulm_chat_complete_stream([prompt], model, max_tokens=64, temperature=0)\n",
    "output = show_rulm_stream(items)"
   ]
  },
  {
   "cell_type": "code",
   "execution_count": 3,
   "id": "d85c1671",
   "metadata": {},
   "outputs": [
    {
     "name": "stdout",
     "output_type": "stream",
     "text": [
      "Выходные данные: 9 мая 2023 года будет вторник.\n"
     ]
    }
   ],
   "source": [
    "output = rulm_chat_complete([prompt], model=model, max_tokens=64, temperature=0)\n",
    "print(output)"
   ]
  },
  {
   "cell_type": "code",
   "execution_count": null,
   "id": "71375be9",
   "metadata": {},
   "outputs": [],
   "source": []
  }
 ],
 "metadata": {
  "kernelspec": {
   "display_name": "default",
   "language": "python",
   "name": "default"
  },
  "language_info": {
   "codemirror_mode": {
    "name": "ipython",
    "version": 3
   },
   "file_extension": ".py",
   "mimetype": "text/x-python",
   "name": "python",
   "nbconvert_exporter": "python",
   "pygments_lexer": "ipython3",
   "version": "3.10.8"
  }
 },
 "nbformat": 4,
 "nbformat_minor": 5
}
